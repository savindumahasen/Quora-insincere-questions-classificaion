{
 "cells": [
  {
   "cell_type": "markdown",
   "id": "71fed9b5-c81c-449d-bb11-16016be63779",
   "metadata": {},
   "source": [
    "# Quora Questions Classifications"
   ]
  },
  {
   "cell_type": "code",
   "execution_count": 1,
   "id": "1d5b83b4-11ef-4e9d-b611-ebb386e18d6b",
   "metadata": {},
   "outputs": [],
   "source": [
    "## import necessary libraries"
   ]
  },
  {
   "cell_type": "code",
   "execution_count": 8,
   "id": "1a6ece19-7080-4f95-b962-e6d27b9a6483",
   "metadata": {},
   "outputs": [],
   "source": [
    "import pandas as pd"
   ]
  },
  {
   "cell_type": "code",
   "execution_count": 9,
   "id": "ec912d0e-2afe-48c2-847d-f0e4a8544aaf",
   "metadata": {},
   "outputs": [],
   "source": [
    "## import the dataset "
   ]
  },
  {
   "cell_type": "code",
   "execution_count": 17,
   "id": "8b9b8253-9e64-48d5-b3b5-f91bc3b77a15",
   "metadata": {},
   "outputs": [],
   "source": [
    "encodings = ['utf-8', 'latin1', 'ISO-8859-1']\n",
    "\n",
    "quora_train = pd.read_csv(\"train.csv\", encoding='ISO-8859-1')\n",
    "\n"
   ]
  },
  {
   "cell_type": "code",
   "execution_count": null,
   "id": "7d6f72d5-4685-4564-aabd-e8244e092259",
   "metadata": {},
   "outputs": [],
   "source": []
  }
 ],
 "metadata": {
  "kernelspec": {
   "display_name": "Python 3 (ipykernel)",
   "language": "python",
   "name": "python3"
  },
  "language_info": {
   "codemirror_mode": {
    "name": "ipython",
    "version": 3
   },
   "file_extension": ".py",
   "mimetype": "text/x-python",
   "name": "python",
   "nbconvert_exporter": "python",
   "pygments_lexer": "ipython3",
   "version": "3.12.1"
  }
 },
 "nbformat": 4,
 "nbformat_minor": 5
}
